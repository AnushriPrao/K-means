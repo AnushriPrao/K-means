{
 "cells": [
  {
   "cell_type": "code",
   "execution_count": 1,
   "metadata": {},
   "outputs": [],
   "source": [
    "#Importing needed packages\n",
    "\n",
    "%matplotlib inline\n",
    "from matplotlib import pyplot as plt #for plotting results\n",
    "import sklearn, re #Regulaer expression and sklearn \n",
    "import numpy as np #linear algebra\n",
    "import pandas as pd #data processing, .csv file I/O\n",
    "from sklearn.preprocessing import StandardScaler #to scale the data\n",
    "from sklearn.impute import SimpleImputer #to fill up the missing values\n",
    "from sklearn import preprocessing\n",
    "from sklearn.decomposition import PCA #principle component analysis\n",
    "from sklearn.impute import KNNImputer \n",
    "from sklearn.neighbors import KNeighborsClassifier #K nearest neighbor\n",
    "from sklearn.cluster import KMeans #k-means module\n",
    "from sklearn.metrics import silhouette_score, adjusted_mutual_info_score, adjusted_rand_score, homogeneity_score\n",
    "from sklearn import metrics\n",
    "from numpy import random\n"
   ]
  },
  {
   "cell_type": "code",
   "execution_count": 2,
   "metadata": {},
   "outputs": [],
   "source": [
    "#dataset paths\n",
    "\n",
    "#77_cancer_proteomes.csv contains protein data with unique \n",
    "#ID(RefSeq) for each protein, gene_symbol,and last 3 columns are from healthy patients\n",
    "data = pd.read_csv('C:/Users/Enigma/Desktop/Small project/77_cancer_proteomes_CPTAC_itraq.csv', index_col = 0)\n",
    "\n",
    "\n",
    "#clinical_data_breast_cancer.csv is used \n",
    "#to match the sample IDs in the main cancer proteomes file\n",
    "clinical = pd.read_csv('C:/Users/Enigma/Desktop/Small project/clinical_data_breast_cancer.csv', index_col = 0)\n",
    "\n",
    "\n",
    "#contains list of genes and proteins used by \n",
    "#PAM50 classification system. RefSeqProteinID is used to match with IDs in clinical file\n",
    "PAM50 = pd.read_csv('C:/Users/Enigma/Desktop/Small project/PAM50_proteins.csv', index_col = 0)\n",
    "\n"
   ]
  },
  {
   "cell_type": "code",
   "execution_count": 3,
   "metadata": {},
   "outputs": [],
   "source": [
    "#Dropping unnecessary columns\n",
    "data.drop(['gene_symbol','gene_name'],axis=1,inplace=True)"
   ]
  },
  {
   "cell_type": "code",
   "execution_count": 4,
   "metadata": {},
   "outputs": [],
   "source": [
    "#Renaming the column according to our needs to make it \n",
    "#easier to match with the column in other file\n",
    "data.rename(columns=lambda x: \"TCGA-%s\" % (re.split('[_|-|.]',x)[0]) if bool(re.search(\"TCGA\",x)) is True else x,inplace=True)"
   ]
  },
  {
   "cell_type": "code",
   "execution_count": 5,
   "metadata": {},
   "outputs": [],
   "source": [
    "## Transpose data for the clustering algorithm\n",
    "#since we want to divide patient samples, not proteins\n",
    "data = data.transpose()"
   ]
  },
  {
   "cell_type": "code",
   "execution_count": 6,
   "metadata": {},
   "outputs": [],
   "source": [
    "## Drop clinical entries for samples not in our protein\n",
    "#data set\n",
    "clinical = clinical.loc[[x for x in clinical.index.tolist() if x in data.index],:]"
   ]
  },
  {
   "cell_type": "code",
   "execution_count": 7,
   "metadata": {},
   "outputs": [],
   "source": [
    "#Merging two tables\n",
    "merged = data.merge(clinical,left_index=True,right_index=True)"
   ]
  },
  {
   "cell_type": "code",
   "execution_count": 8,
   "metadata": {},
   "outputs": [],
   "source": [
    "#Transfering matched column data to other object\n",
    "processed = merged"
   ]
  },
  {
   "cell_type": "code",
   "execution_count": 9,
   "metadata": {},
   "outputs": [],
   "source": [
    "### Numerical data for the algorithm, NP_xx/XP_xx are protein identifiers \n",
    "#from RefSeq database\n",
    "processed_numerical = processed.loc[:,[x for x in processed.columns if bool(re.search(\"NP_|XP_\",x)) == True]]"
   ]
  },
  {
   "cell_type": "code",
   "execution_count": 10,
   "metadata": {},
   "outputs": [],
   "source": [
    "## Select only the PAM50 proteins - known panel of genes used for \n",
    "#breast cancer subtype prediction\n",
    "processed_numerical_p50 = processed_numerical.iloc[:,processed_numerical.columns.isin(PAM50['RefSeqProteinID'])]"
   ]
  },
  {
   "cell_type": "code",
   "execution_count": 11,
   "metadata": {},
   "outputs": [],
   "source": [
    "#Impute missing values\n",
    "imputer = SimpleImputer(missing_values=np.nan, strategy='median')\n",
    "imputer = imputer.fit(processed_numerical_p50)\n",
    "processed_numerical_p50 = imputer.transform(processed_numerical_p50)"
   ]
  },
  {
   "cell_type": "code",
   "execution_count": 12,
   "metadata": {},
   "outputs": [],
   "source": [
    "#check number of clusters that would work fine\n",
    "#it is trial here trying 20 and 79\n",
    "n_clusters = [2,3,4,5,6,7,8,10,20,79]\n",
    "\n",
    "def compare_k_means(k_list,data):\n",
    "    ## Run clustering with different k and check the metrics\n",
    "    for k in k_list:\n",
    "        clusterer = KMeans(n_clusters=k, n_jobs=4)\n",
    "        clusterer.fit(data)\n",
    "        ## The higher (up to 1) the better\n",
    "        print(\"Silhouette Coefficient for k == %s: %s\" % (\n",
    "        k, round(metrics.silhouette_score(data, clusterer.labels_), 4)))\n",
    "        print(\"Homogeneity score for k == %s: %s\" % (\n",
    "        k, round(metrics.homogeneity_score(processed['PAM50 mRNA'], clusterer.labels_),4)))\n",
    "        print(\"------------------------\")\n"
   ]
  },
  {
   "cell_type": "code",
   "execution_count": 13,
   "metadata": {},
   "outputs": [],
   "source": [
    "#Create a random numerical matrix with imputation\n",
    "processed_numerical_random = processed_numerical.iloc[:,random.choice(range(processed_numerical.shape[1]),43)]\n",
    "imputer_rnd = imputer.fit(processed_numerical_random)\n",
    "processed_numerical_random = imputer_rnd.transform(processed_numerical_random)"
   ]
  },
  {
   "cell_type": "code",
   "execution_count": 14,
   "metadata": {},
   "outputs": [
    {
     "name": "stdout",
     "output_type": "stream",
     "text": [
      "Silhouette Coefficient for k == 2: 0.211\n",
      "Homogeneity score for k == 2: 0.2073\n",
      "------------------------\n",
      "Silhouette Coefficient for k == 3: 0.1748\n",
      "Homogeneity score for k == 3: 0.4159\n",
      "------------------------\n",
      "Silhouette Coefficient for k == 4: 0.1429\n",
      "Homogeneity score for k == 4: 0.4314\n",
      "------------------------\n",
      "Silhouette Coefficient for k == 5: 0.136\n",
      "Homogeneity score for k == 5: 0.4995\n",
      "------------------------\n",
      "Silhouette Coefficient for k == 6: 0.1174\n",
      "Homogeneity score for k == 6: 0.5228\n",
      "------------------------\n",
      "Silhouette Coefficient for k == 7: 0.1195\n",
      "Homogeneity score for k == 7: 0.5494\n",
      "------------------------\n",
      "Silhouette Coefficient for k == 8: 0.104\n",
      "Homogeneity score for k == 8: 0.561\n",
      "------------------------\n",
      "Silhouette Coefficient for k == 10: 0.0975\n",
      "Homogeneity score for k == 10: 0.6338\n",
      "------------------------\n",
      "Silhouette Coefficient for k == 20: 0.0903\n",
      "Homogeneity score for k == 20: 0.6944\n",
      "------------------------\n",
      "Silhouette Coefficient for k == 79: 0.0087\n",
      "Homogeneity score for k == 79: 1.0\n",
      "------------------------\n"
     ]
    }
   ],
   "source": [
    "#Check different number of clusters for PAM50 protiens\n",
    "compare_k_means(n_clusters,processed_numerical_p50)"
   ]
  },
  {
   "cell_type": "code",
   "execution_count": 15,
   "metadata": {},
   "outputs": [
    {
     "name": "stdout",
     "output_type": "stream",
     "text": [
      "Silhouette Coefficient for k == 2: 0.113\n",
      "Homogeneity score for k == 2: 0.0337\n",
      "------------------------\n",
      "Silhouette Coefficient for k == 3: 0.0988\n",
      "Homogeneity score for k == 3: 0.06\n",
      "------------------------\n",
      "Silhouette Coefficient for k == 4: 0.0788\n",
      "Homogeneity score for k == 4: 0.1194\n",
      "------------------------\n",
      "Silhouette Coefficient for k == 5: 0.0644\n",
      "Homogeneity score for k == 5: 0.099\n",
      "------------------------\n",
      "Silhouette Coefficient for k == 6: 0.0667\n",
      "Homogeneity score for k == 6: 0.185\n",
      "------------------------\n",
      "Silhouette Coefficient for k == 7: 0.0602\n",
      "Homogeneity score for k == 7: 0.235\n",
      "------------------------\n",
      "Silhouette Coefficient for k == 8: 0.068\n",
      "Homogeneity score for k == 8: 0.2303\n",
      "------------------------\n",
      "Silhouette Coefficient for k == 10: 0.0567\n",
      "Homogeneity score for k == 10: 0.2276\n",
      "------------------------\n",
      "Silhouette Coefficient for k == 20: 0.0704\n",
      "Homogeneity score for k == 20: 0.4677\n",
      "------------------------\n",
      "Silhouette Coefficient for k == 79: 0.0121\n",
      "Homogeneity score for k == 79: 1.0\n",
      "------------------------\n"
     ]
    }
   ],
   "source": [
    "#Use random protiens for comparison\n",
    "#The scores should be significantly lower for PAM50 protiens\n",
    "compare_k_means(n_clusters,processed_numerical_random)"
   ]
  },
  {
   "cell_type": "code",
   "execution_count": 16,
   "metadata": {},
   "outputs": [
    {
     "data": {
      "image/png": "[encoded data removed]",
      "text/plain": [
       "<Figure size 864x576 with 1 Axes>"
      ]
     },
     "metadata": {
      "needs_background": "light"
     },
     "output_type": "display_data"
    }
   ],
   "source": [
    "#visualize data using k=3\n",
    "\n",
    "import seaborn as sns\n",
    "clusterer_final = KMeans(n_clusters=3, n_jobs=4)\n",
    "clusterer_final = clusterer_final.fit(processed_numerical_p50)\n",
    "processed_p50_plot = pd.DataFrame(processed_numerical_p50)\n",
    "processed_p50_plot['KMeans_cluster'] = clusterer_final.labels_\n",
    "processed_p50_plot.sort_values('KMeans_cluster',axis=0,inplace=True)\n",
    "\n",
    "fig = plt.figure(figsize=(12,8))\n",
    "plt.scatter(processed_numerical_p50[:,0], processed_numerical_p50[:,1], c=clusterer_final.labels_, cmap=\"Set1_r\", s=25)\n",
    "plt.scatter(clusterer_final.cluster_centers_[:,0] ,clusterer_final.cluster_centers_[:,1], color='black', marker=\"x\", s=250)\n",
    "plt.title(\"Kmeans Clustering \\n Breast cancer preteomics\", fontsize=16)\n",
    "plt.show()"
   ]
  },
  {
   "cell_type": "code",
   "execution_count": 17,
   "metadata": {},
   "outputs": [
    {
     "name": "stdout",
     "output_type": "stream",
     "text": [
      "\n",
      "Components: 1\n",
      "% of Variance Explained: 0.36337092861806597\n",
      "Silhouette Coefficient for k == 2: 0.5731\n",
      "Homogeneity score for k == 2: 0.2073\n",
      "------------------------\n",
      "Silhouette Coefficient for k == 3: 0.5711\n",
      "Homogeneity score for k == 3: 0.2599\n",
      "------------------------\n",
      "Silhouette Coefficient for k == 4: 0.55\n",
      "Homogeneity score for k == 4: 0.3077\n",
      "------------------------\n",
      "Silhouette Coefficient for k == 5: 0.5583\n",
      "Homogeneity score for k == 5: 0.3385\n",
      "------------------------\n",
      "Silhouette Coefficient for k == 6: 0.5716\n",
      "Homogeneity score for k == 6: 0.3637\n",
      "------------------------\n",
      "Silhouette Coefficient for k == 7: 0.6023\n",
      "Homogeneity score for k == 7: 0.3648\n",
      "------------------------\n",
      "Silhouette Coefficient for k == 8: 0.6106\n",
      "Homogeneity score for k == 8: 0.3808\n",
      "------------------------\n",
      "Silhouette Coefficient for k == 10: 0.5888\n",
      "Homogeneity score for k == 10: 0.4247\n",
      "------------------------\n",
      "Silhouette Coefficient for k == 20: 0.5959\n",
      "Homogeneity score for k == 20: 0.523\n",
      "------------------------\n",
      "Silhouette Coefficient for k == 79: 0.0243\n",
      "Homogeneity score for k == 79: 1.0\n",
      "------------------------\n",
      "\n",
      "Components: 3\n",
      "% of Variance Explained: 0.5678347747051233\n",
      "Silhouette Coefficient for k == 2: 0.3767\n",
      "Homogeneity score for k == 2: 0.1855\n",
      "------------------------\n",
      "Silhouette Coefficient for k == 3: 0.3355\n",
      "Homogeneity score for k == 3: 0.3155\n",
      "------------------------\n",
      "Silhouette Coefficient for k == 4: 0.3037\n",
      "Homogeneity score for k == 4: 0.4261\n",
      "------------------------\n",
      "Silhouette Coefficient for k == 5: 0.3217\n",
      "Homogeneity score for k == 5: 0.4592\n",
      "------------------------\n",
      "Silhouette Coefficient for k == 6: 0.3081\n",
      "Homogeneity score for k == 6: 0.5424\n",
      "------------------------\n",
      "Silhouette Coefficient for k == 7: 0.2691\n",
      "Homogeneity score for k == 7: 0.5367\n",
      "------------------------\n",
      "Silhouette Coefficient for k == 8: 0.2934\n",
      "Homogeneity score for k == 8: 0.5185\n",
      "------------------------\n",
      "Silhouette Coefficient for k == 10: 0.2929\n",
      "Homogeneity score for k == 10: 0.5527\n",
      "------------------------\n",
      "Silhouette Coefficient for k == 20: 0.2929\n",
      "Homogeneity score for k == 20: 0.5829\n",
      "------------------------\n",
      "Silhouette Coefficient for k == 79: 0.0174\n",
      "Homogeneity score for k == 79: 0.9872\n",
      "------------------------\n",
      "\n",
      "Components: 5\n",
      "% of Variance Explained: 0.678974553742611\n",
      "Silhouette Coefficient for k == 2: 0.3137\n",
      "Homogeneity score for k == 2: 0.2073\n",
      "------------------------\n",
      "Silhouette Coefficient for k == 3: 0.2826\n",
      "Homogeneity score for k == 3: 0.4125\n",
      "------------------------\n",
      "Silhouette Coefficient for k == 4: 0.2503\n",
      "Homogeneity score for k == 4: 0.4288\n",
      "------------------------\n",
      "Silhouette Coefficient for k == 5: 0.2663\n",
      "Homogeneity score for k == 5: 0.5291\n",
      "------------------------\n",
      "Silhouette Coefficient for k == 6: 0.2383\n",
      "Homogeneity score for k == 6: 0.5561\n",
      "------------------------\n",
      "Silhouette Coefficient for k == 7: 0.2246\n",
      "Homogeneity score for k == 7: 0.5965\n",
      "------------------------\n",
      "Silhouette Coefficient for k == 8: 0.21\n",
      "Homogeneity score for k == 8: 0.5503\n",
      "------------------------\n",
      "Silhouette Coefficient for k == 10: 0.2345\n",
      "Homogeneity score for k == 10: 0.5918\n",
      "------------------------\n",
      "Silhouette Coefficient for k == 20: 0.2087\n",
      "Homogeneity score for k == 20: 0.6192\n",
      "------------------------\n",
      "Silhouette Coefficient for k == 79: 0.0097\n",
      "Homogeneity score for k == 79: 0.9872\n",
      "------------------------\n",
      "\n",
      "Components: 7\n",
      "% of Variance Explained: 0.751075797392403\n",
      "Silhouette Coefficient for k == 2: 0.2845\n",
      "Homogeneity score for k == 2: 0.2073\n",
      "------------------------\n",
      "Silhouette Coefficient for k == 3: 0.2548\n",
      "Homogeneity score for k == 3: 0.4159\n",
      "------------------------\n",
      "Silhouette Coefficient for k == 4: 0.2156\n",
      "Homogeneity score for k == 4: 0.4297\n",
      "------------------------\n",
      "Silhouette Coefficient for k == 5: 0.2347\n",
      "Homogeneity score for k == 5: 0.5508\n",
      "------------------------\n",
      "Silhouette Coefficient for k == 6: 0.2119\n",
      "Homogeneity score for k == 6: 0.5623\n",
      "------------------------\n",
      "Silhouette Coefficient for k == 7: 0.2036\n",
      "Homogeneity score for k == 7: 0.5696\n",
      "------------------------\n",
      "Silhouette Coefficient for k == 8: 0.1937\n",
      "Homogeneity score for k == 8: 0.6256\n",
      "------------------------\n",
      "Silhouette Coefficient for k == 10: 0.1879\n",
      "Homogeneity score for k == 10: 0.5831\n",
      "------------------------\n",
      "Silhouette Coefficient for k == 20: 0.1858\n",
      "Homogeneity score for k == 20: 0.6922\n",
      "------------------------\n",
      "Silhouette Coefficient for k == 79: 0.0126\n",
      "Homogeneity score for k == 79: 0.9872\n",
      "------------------------\n",
      "\n",
      "Components: 9\n",
      "% of Variance Explained: 0.8012348034758264\n",
      "Silhouette Coefficient for k == 2: 0.2651\n",
      "Homogeneity score for k == 2: 0.2073\n",
      "------------------------\n",
      "Silhouette Coefficient for k == 3: 0.2376\n",
      "Homogeneity score for k == 3: 0.4125\n",
      "------------------------\n",
      "Silhouette Coefficient for k == 4: 0.195\n",
      "Homogeneity score for k == 4: 0.4361\n",
      "------------------------\n",
      "Silhouette Coefficient for k == 5: 0.1959\n",
      "Homogeneity score for k == 5: 0.5434\n",
      "------------------------\n",
      "Silhouette Coefficient for k == 6: 0.1559\n",
      "Homogeneity score for k == 6: 0.5566\n",
      "------------------------\n",
      "Silhouette Coefficient for k == 7: 0.1746\n",
      "Homogeneity score for k == 7: 0.5326\n",
      "------------------------\n",
      "Silhouette Coefficient for k == 8: 0.1642\n",
      "Homogeneity score for k == 8: 0.5668\n",
      "------------------------\n",
      "Silhouette Coefficient for k == 10: 0.1644\n",
      "Homogeneity score for k == 10: 0.6099\n",
      "------------------------\n",
      "Silhouette Coefficient for k == 20: 0.1496\n",
      "Homogeneity score for k == 20: 0.7433\n",
      "------------------------\n",
      "Silhouette Coefficient for k == 79: 0.011\n",
      "Homogeneity score for k == 79: 1.0\n",
      "------------------------\n",
      "\n",
      "Components: 11\n",
      "% of Variance Explained: 0.8437010116098158\n",
      "Silhouette Coefficient for k == 2: 0.2508\n",
      "Homogeneity score for k == 2: 0.2073\n",
      "------------------------\n",
      "Silhouette Coefficient for k == 3: 0.2205\n",
      "Homogeneity score for k == 3: 0.4125\n",
      "------------------------\n",
      "Silhouette Coefficient for k == 4: 0.1829\n",
      "Homogeneity score for k == 4: 0.4314\n",
      "------------------------\n",
      "Silhouette Coefficient for k == 5: 0.1873\n",
      "Homogeneity score for k == 5: 0.564\n",
      "------------------------\n",
      "Silhouette Coefficient for k == 6: 0.1812\n",
      "Homogeneity score for k == 6: 0.6068\n",
      "------------------------\n",
      "Silhouette Coefficient for k == 7: 0.159\n",
      "Homogeneity score for k == 7: 0.5784\n",
      "------------------------\n",
      "Silhouette Coefficient for k == 8: 0.151\n",
      "Homogeneity score for k == 8: 0.6129\n",
      "------------------------\n",
      "Silhouette Coefficient for k == 10: 0.1522\n",
      "Homogeneity score for k == 10: 0.6064\n",
      "------------------------\n",
      "Silhouette Coefficient for k == 20: 0.1177\n",
      "Homogeneity score for k == 20: 0.6689\n",
      "------------------------\n",
      "Silhouette Coefficient for k == 79: 0.0073\n",
      "Homogeneity score for k == 79: 1.0\n",
      "------------------------\n",
      "\n",
      "Components: 13\n",
      "% of Variance Explained: 0.8747571201876738\n",
      "Silhouette Coefficient for k == 2: 0.2412\n",
      "Homogeneity score for k == 2: 0.2073\n",
      "------------------------\n",
      "Silhouette Coefficient for k == 3: 0.2114\n",
      "Homogeneity score for k == 3: 0.412\n",
      "------------------------\n",
      "Silhouette Coefficient for k == 4: 0.1683\n",
      "Homogeneity score for k == 4: 0.4297\n",
      "------------------------\n",
      "Silhouette Coefficient for k == 5: 0.1631\n",
      "Homogeneity score for k == 5: 0.5065\n",
      "------------------------\n",
      "Silhouette Coefficient for k == 6: 0.1681\n",
      "Homogeneity score for k == 6: 0.6136\n",
      "------------------------\n",
      "Silhouette Coefficient for k == 7: 0.1473\n",
      "Homogeneity score for k == 7: 0.514\n",
      "------------------------\n",
      "Silhouette Coefficient for k == 8: 0.144\n",
      "Homogeneity score for k == 8: 0.593\n",
      "------------------------\n",
      "Silhouette Coefficient for k == 10: 0.116\n",
      "Homogeneity score for k == 10: 0.6264\n",
      "------------------------\n",
      "Silhouette Coefficient for k == 20: 0.103\n",
      "Homogeneity score for k == 20: 0.7022\n",
      "------------------------\n",
      "Silhouette Coefficient for k == 79: 0.0083\n",
      "Homogeneity score for k == 79: 1.0\n",
      "------------------------\n",
      "\n",
      "Components: 15\n",
      "% of Variance Explained: 0.9008033482985227\n",
      "Silhouette Coefficient for k == 2: 0.235\n",
      "Homogeneity score for k == 2: 0.2073\n",
      "------------------------\n",
      "Silhouette Coefficient for k == 3: 0.2026\n",
      "Homogeneity score for k == 3: 0.4138\n",
      "------------------------\n",
      "Silhouette Coefficient for k == 4: 0.1657\n",
      "Homogeneity score for k == 4: 0.4288\n",
      "------------------------\n",
      "Silhouette Coefficient for k == 5: 0.1573\n",
      "Homogeneity score for k == 5: 0.5054\n",
      "------------------------\n",
      "Silhouette Coefficient for k == 6: 0.1367\n",
      "Homogeneity score for k == 6: 0.548\n",
      "------------------------\n",
      "Silhouette Coefficient for k == 7: 0.1065\n",
      "Homogeneity score for k == 7: 0.5713\n",
      "------------------------\n",
      "Silhouette Coefficient for k == 8: 0.1437\n",
      "Homogeneity score for k == 8: 0.5243\n",
      "------------------------\n"
     ]
    },
    {
     "name": "stdout",
     "output_type": "stream",
     "text": [
      "Silhouette Coefficient for k == 10: 0.1364\n",
      "Homogeneity score for k == 10: 0.5608\n",
      "------------------------\n",
      "Silhouette Coefficient for k == 20: 0.101\n",
      "Homogeneity score for k == 20: 0.6351\n",
      "------------------------\n",
      "Silhouette Coefficient for k == 79: 0.0087\n",
      "Homogeneity score for k == 79: 1.0\n",
      "------------------------\n"
     ]
    }
   ],
   "source": [
    "#building PCA model\n",
    "for n_component in range(1, 16, 2):\n",
    "    pca = PCA(n_components=n_component)\n",
    "    reduced_data = pca.fit_transform(processed_numerical_p50)\n",
    "    print('\\nComponents: {}'.format(n_component))\n",
    "    print('% of Variance Explained: {}'.format(sum(pca.explained_variance_ratio_)))\n",
    "    compare_k_means(n_clusters, reduced_data)"
   ]
  },
  {
   "cell_type": "code",
   "execution_count": 18,
   "metadata": {},
   "outputs": [
    {
     "name": "stdout",
     "output_type": "stream",
     "text": [
      "[0.36337093 0.12581338 0.07865046 0.05877226 0.05236752]\n"
     ]
    }
   ],
   "source": [
    "#After analysis kmeans clustering with 5 PCA components\n",
    "pca=PCA(n_components=5)\n",
    "ProteomicsX_pca=pca.fit(processed_numerical_p50)\n",
    "ProteomicsX_pca2=ProteomicsX_pca.transform(processed_numerical_p50)\n",
    "print(pca.explained_variance_ratio_)\n"
   ]
  },
  {
   "cell_type": "code",
   "execution_count": 19,
   "metadata": {},
   "outputs": [
    {
     "name": "stdout",
     "output_type": "stream",
     "text": [
      "LABELS [2 2 4 0 3 4 1 2 1 0 3 0 0 4 2 2 1 1 1 1 4 1 3 4 0 1 2 4 3 2 1 0 3 3 4 4 2\n",
      " 4 3 3 3 4 4 1 2 3 4 1 4 2 0 3 1 3 2 0 2 1 1 4 0 0 3 2 4 2 0 1 2 4 1 2 2 2\n",
      " 4 4 2 3 2 4]\n",
      "----------------------------\n",
      "Centroids [[ -3.37434094   3.11455799  -5.1515231    1.55717342  -0.38795736]\n",
      " [ -4.78772214   1.00817546   4.31307237   1.42789285  -1.34238765]\n",
      " [ 11.48461812   3.39216799   0.48296458  -1.8084112   -0.28826151]\n",
      " [-13.34710904   0.33031528   0.17831769  -2.92285744   0.54402626]\n",
      " [  3.73097203  -6.46624836  -1.28937595   1.95331762   1.25761031]]\n"
     ]
    }
   ],
   "source": [
    "n_clusters = 5\n",
    "KMeansModel=KMeans(n_clusters=n_clusters, init='k-means++')\n",
    "KMeanData=ProteomicsX_pca2\n",
    "KMeansModel.fit(KMeanData)\n",
    "labels=KMeansModel.labels_\n",
    "centroids=KMeansModel.cluster_centers_\n",
    "print(\"LABELS\",labels)\n",
    "print(\"----------------------------\")\n",
    "print(\"Centroids\",centroids)"
   ]
  },
  {
   "cell_type": "code",
   "execution_count": 20,
   "metadata": {},
   "outputs": [
    {
     "data": {
      "image/png": "[encoded data removed]",
      "text/plain": [
       "<Figure size 864x576 with 1 Axes>"
      ]
     },
     "metadata": {
      "needs_background": "light"
     },
     "output_type": "display_data"
    }
   ],
   "source": [
    "#Final visualization with X mark for centroids of each cluster\n",
    "fig = plt.figure(figsize=(12,8))\n",
    "\n",
    "plt.scatter(KMeanData[:,0], KMeanData[:,1], c=KMeansModel.labels_, cmap=\"Set1_r\", s=25)\n",
    "plt.scatter(KMeansModel.cluster_centers_[:,0] ,KMeansModel.cluster_centers_[:,1], color='black', marker=\"x\", s=250)\n",
    "plt.title(\"Kmeans Clustering \\n Breast cancer preteomics\", fontsize=16)\n",
    "plt.show()"
   ]
  },
  {
   "cell_type": "code",
   "execution_count": null,
   "metadata": {},
   "outputs": [],
   "source": []
  }
 ],
 "metadata": {
  "kernelspec": {
   "display_name": "Python 3",
   "language": "python",
   "name": "python3"
  },
  "language_info": {
   "codemirror_mode": {
    "name": "ipython",
    "version": 3
   },
   "file_extension": ".py",
   "mimetype": "text/x-python",
   "name": "python",
   "nbconvert_exporter": "python",
   "pygments_lexer": "ipython3",
   "version": "3.7.7"
  }
 },
 "nbformat": 4,
 "nbformat_minor": 4
}
